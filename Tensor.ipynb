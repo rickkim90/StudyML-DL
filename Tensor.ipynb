{
 "cells": [
  {
   "cell_type": "markdown",
   "metadata": {},
   "source": [
    "## #Tensor"
   ]
  },
  {
   "cell_type": "markdown",
   "metadata": {},
   "source": [
    "### TENSOR\n",
    "Tensors are similar to numpy’s ndarrays, Tensors can also be used on a GPU to accelerate computing. Tensor는 numpy의 ndarrays와 비슷하다. Tensor는 GPU를 사용해 계산속도를 높일 수 있다."
   ]
  },
  {
   "cell_type": "code",
   "execution_count": 9,
   "metadata": {
    "collapsed": true
   },
   "outputs": [],
   "source": [
    "import numpy as np"
   ]
  },
  {
   "cell_type": "markdown",
   "metadata": {},
   "source": [
    "numpy.ndarray\n",
    "\n",
    "np.ndarray(shape=(2,2), dtype=float, order='F')\n",
    "\n",
    "array([[ -1.13698227e+002,   4.25087011e-303],\n",
    "       [  2.88528414e-306,   3.27025015e-309]])         #random\n",
    "order = 'F' (column-major), 'C'(row-major)"
   ]
  },
  {
   "cell_type": "markdown",
   "metadata": {},
   "source": [
    "## Tensor 시작하기\n",
    "from __future__ import print_function\n",
    "\n",
    "import torch"
   ]
  },
  {
   "cell_type": "markdown",
   "metadata": {},
   "source": [
    "#### 5X3 행렬 uninitialized\n",
    "x = torch.Tensor(5, 3)\n",
    "print(x)\n",
    "#### 5X3 행렬 initialized\n",
    "x = torch.rand(5, 3)\n",
    "print(x)\n",
    "# 행렬크기를 구하기\n",
    "print(x.size())\n",
    "#### => torch.Size([5, 3])"
   ]
  },
  {
   "cell_type": "markdown",
   "metadata": {},
   "source": [
    "### OPERATIONS(연산)"
   ]
  },
  {
   "cell_type": "markdown",
   "metadata": {},
   "source": [
    "x = torch.rand(5, 3)\n",
    "y = torch.rand(5, 3)\n",
    "\n",
    "print(x + y)\n",
    "print(torch.add(x, y))\n",
    "\n",
    "result = torch.Tensor(5, 3)\n",
    "torch.add(x, y, out=result)\n",
    "print(result)\n",
    "\n",
    "y.add_(x)\n",
    "print(y)"
   ]
  },
  {
   "cell_type": "markdown",
   "metadata": {},
   "source": [
    "#### #Tensor operations(transposing, indexing, slicing, mathematical operations, linear algebra, random numbers)"
   ]
  },
  {
   "cell_type": "markdown",
   "metadata": {},
   "source": [
    "### NUMPY BRIDGE"
   ]
  },
  {
   "cell_type": "markdown",
   "metadata": {},
   "source": [
    "#### torch의 Tensor를 numpy array로 전환해준다. torch Tensor와 numpy array는 메모리 위치를 공유한다."
   ]
  },
  {
   "cell_type": "markdown",
   "metadata": {},
   "source": [
    "### Converting torch Tensor to numpy Array"
   ]
  },
  {
   "cell_type": "markdown",
   "metadata": {},
   "source": [
    "a = torch.ones(5)\n",
    "\n",
    "b = a.numpy()\n",
    "\n",
    "a.add_(1)"
   ]
  },
  {
   "cell_type": "markdown",
   "metadata": {},
   "source": [
    "#### Converting numpy Array to torch Tensor"
   ]
  },
  {
   "cell_type": "markdown",
   "metadata": {},
   "source": [
    "import numpy as np\n",
    "\n",
    "a = np.ones(5)\n",
    "\n",
    "b = torch.from_numpy(a)\n",
    "\n",
    "np.add(a, 1, out=a)"
   ]
  },
  {
   "cell_type": "markdown",
   "metadata": {},
   "source": [
    "### CUDA Tensors\n",
    "\n"
   ]
  },
  {
   "cell_type": "markdown",
   "metadata": {},
   "source": [
    "#### CUDA (“Compute Unified Device Architecture”, 쿠다)는 그래픽 처리 장치(GPU)에서 수행하는 (병렬 처리) 알고리즘을 C 프로그래밍 언어를 비롯한 산업 표준 언어를 사용하여 작성할 수 있도록 하는 GPGPU 기술이다.\n",
    "\n"
   ]
  },
  {
   "cell_type": "markdown",
   "metadata": {},
   "source": [
    "let us run this cell only if CUDA is available\n",
    "\n",
    "if torch.cuda.is_available():\n",
    "\n",
    "    x = x.cuda()\n",
    "    \n",
    "    y = y.cuda()\n",
    "    \n",
    "    x + y"
   ]
  }
 ],
 "metadata": {
  "kernelspec": {
   "display_name": "Python 3",
   "language": "python",
   "name": "python3"
  },
  "language_info": {
   "codemirror_mode": {
    "name": "ipython",
    "version": 3
   },
   "file_extension": ".py",
   "mimetype": "text/x-python",
   "name": "python",
   "nbconvert_exporter": "python",
   "pygments_lexer": "ipython3",
   "version": "3.6.1"
  }
 },
 "nbformat": 4,
 "nbformat_minor": 2
}
